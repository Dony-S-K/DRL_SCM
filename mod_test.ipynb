{
 "cells": [
  {
   "cell_type": "markdown",
   "metadata": {
    "id": "talRHpPE_hpN"
   },
   "source": [
    "####Loading dependencies"
   ]
  },
  {
   "cell_type": "code",
   "execution_count": 7,
   "metadata": {
    "id": "8bbPhpi1e8Zn"
   },
   "outputs": [],
   "source": [
    "import numpy as np\n",
    "import pandas as pd\n",
    "import sys\n",
    "dir = '/path/'\n",
    "sys.path.insert(0,dir)\n",
    "import drl_scm"
   ]
  },
  {
   "cell_type": "markdown",
   "metadata": {
    "id": "KVBBSJJ9-14f"
   },
   "source": [
    "####Experiment 2 Output"
   ]
  },
  {
   "cell_type": "code",
   "execution_count": 8,
   "metadata": {
    "colab": {
     "base_uri": "https://localhost:8080/"
    },
    "id": "y2kZoOYsftCu",
    "outputId": "951e76cb-88e0-4dad-88b8-554f03b65a05"
   },
   "outputs": [
    {
     "name": "stdout",
     "output_type": "stream",
     "text": [
      "Model evaluation begins for the given demand and lead time.\n",
      "Total Supply Chain Cost for the given demand and lead time is :  1081.0\n",
      "Order size decisions of Retailer, Wholesaler, Distributor and Factory from model run are saved in Output_2 folder.\n"
     ]
    }
   ],
   "source": [
    "demand = [15, 10, 8, 14, 9, 3, 13, 2, 13, 11, 3, 4, 6, 11, 15, 12, 15, 4, 12, 3, 13, 10, 15, \n",
    "          15, 3, 11, 1, 13, 10, 10, 0, 0, 8, 0, 14]\n",
    "lead_time = [2, 2, 2, 2, 2, 2, 2, 2, 2, 2, 2, 2, 2, 2, 2, 2, 2, 2, 2, 2, 2, 2, 2, 2, 2, 2, 2, 2, 2, 2, 2, 2, 2, 2, 2]\n",
    "\n",
    "drl_scm.scm_sim_2(demand, lead_time)"
   ]
  },
  {
   "cell_type": "markdown",
   "metadata": {
    "id": "56-9kvxX--C3"
   },
   "source": [
    "####Experiment 3 Output"
   ]
  },
  {
   "cell_type": "code",
   "execution_count": 9,
   "metadata": {
    "colab": {
     "base_uri": "https://localhost:8080/"
    },
    "id": "FHHxm_t5boW6",
    "outputId": "9d636e71-c618-4bc3-b802-52b31fdb2661"
   },
   "outputs": [
    {
     "name": "stdout",
     "output_type": "stream",
     "text": [
      "Model evaluation begins for the given demand and lead time.\n",
      "Total Supply Chain Cost for the given demand and lead time is : 2069.0\n",
      "Order size decisions of Retailer, Wholesaler, Distributor and Factory from model run are saved in Output_3 folder.\n"
     ]
    }
   ],
   "source": [
    "demand = [15, 10, 8, 14, 9, 3, 13, 2, 13, 11, 3, 4, 6, 11, 15, 12, 15, 4, 12, 3, 13, 10, 15, \n",
    "          15, 3, 11, 1, 13, 10, 10, 0, 0, 8, 0, 14]\n",
    "lead_time = [2, 0, 2, 4, 4, 4, 0, 2, 4, 1, 1, 0, 0, 1, 1, 0, 1, 1, 2, 1, 1, 1, 4, 2, 2, 1, 4, 3, 4, 1, 4, 0, 3, 3, 4]\n",
    "\n",
    "drl_scm.scm_sim_3(demand, lead_time)"
   ]
  }
 ],
 "metadata": {
  "colab": {
   "provenance": []
  },
  "gpuClass": "standard",
  "kernelspec": {
   "display_name": "Python 3",
   "language": "python",
   "name": "python3"
  },
  "language_info": {
   "codemirror_mode": {
    "name": "ipython",
    "version": 3
   },
   "file_extension": ".py",
   "mimetype": "text/x-python",
   "name": "python",
   "nbconvert_exporter": "python",
   "pygments_lexer": "ipython3",
   "version": "3.7.0"
  }
 },
 "nbformat": 4,
 "nbformat_minor": 1
}
